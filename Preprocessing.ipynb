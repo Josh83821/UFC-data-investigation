{
 "cells": [
  {
   "cell_type": "code",
   "execution_count": 1,
   "id": "23cccad6",
   "metadata": {},
   "outputs": [],
   "source": [
    "import pandas as pd\n",
    "from sklearn.preprocessing import StandardScaler, OneHotEncoder, LabelEncoder\n",
    "from sklearn.impute import SimpleImputer\n",
    "from torch.utils.data import Dataset, random_split\n"
   ]
  },
  {
   "cell_type": "code",
   "execution_count": 2,
   "id": "c3c45a1c",
   "metadata": {},
   "outputs": [],
   "source": [
    "import torch\n",
    "\n",
    "class CustomDataset(Dataset):\n",
    "    def __init__(self, x, y):\n",
    "        self.x = x\n",
    "        self.y = y\n",
    "\n",
    "    def __getitem__(self, index):\n",
    "        # Return a dictionary with 'features' and 'label' as keys\n",
    "        features = torch.tensor(self.x.iloc[index], dtype=torch.float32)\n",
    "        label = torch.tensor(self.y[index], dtype=torch.long)\n",
    "        return features, label\n",
    "    def __len__(self):\n",
    "        # Return the total number of samples\n",
    "        return len(self.x)"
   ]
  },
  {
   "cell_type": "code",
   "execution_count": 3,
   "id": "3cf589da",
   "metadata": {},
   "outputs": [],
   "source": [
    "def Preprocessing(data, label_column, encoded_columns):\n",
    "    #First take out the labels and encode them.\n",
    "    le = LabelEncoder()\n",
    "    labels = data[label_column]\n",
    "    labels = le.fit_transform(labels)\n",
    "    \n",
    "    #Get the attributes and preprocess them \n",
    "    encoder = OneHotEncoder(sparse=False)\n",
    "    imp = SimpleImputer()\n",
    "    scaler = StandardScaler()\n",
    "    \n",
    "    categorical_columns = data.select_dtypes(include=['object']).columns.tolist()\n",
    "\n",
    "    # Apply one-hot encoding to the categorical columns\n",
    "    one_hot_encoded = encoder.fit_transform(data[encoded_columns])\n",
    "\n",
    "    #Create a dataFrame with the one-hot encoded columns\n",
    "    one_hot_data = pd.DataFrame(one_hot_encoded, columns=encoder.get_feature_names_out(encoded_columns))\n",
    "\n",
    "    #Drop categorical columns \n",
    "    data = data.drop(categorical_columns, axis=1)\n",
    "\n",
    "    #Now we need to impute and stanardize the data before adding the categorical data\n",
    "    data = pd.DataFrame(imp.fit_transform(data), columns=data.columns)\n",
    "    data = pd.DataFrame(scaler.fit_transform(data), columns=data.columns)\n",
    "    \n",
    "    # Concatenate the one-hot encoded dataaframe with the original dataaframe\n",
    "    data_encoded = pd.concat([data, one_hot_data], axis=1)\n",
    "    \n",
    "    return labels, data_encoded"
   ]
  },
  {
   "cell_type": "code",
   "execution_count": 4,
   "id": "277e5947",
   "metadata": {},
   "outputs": [],
   "source": [
    "def data_to_dataset(x, y):\n",
    "    return CustomDataset(x, y)\n"
   ]
  }
 ],
 "metadata": {
  "kernelspec": {
   "display_name": "Python 3 (ipykernel)",
   "language": "python",
   "name": "python3"
  },
  "language_info": {
   "codemirror_mode": {
    "name": "ipython",
    "version": 3
   },
   "file_extension": ".py",
   "mimetype": "text/x-python",
   "name": "python",
   "nbconvert_exporter": "python",
   "pygments_lexer": "ipython3",
   "version": "3.9.12"
  }
 },
 "nbformat": 4,
 "nbformat_minor": 5
}
