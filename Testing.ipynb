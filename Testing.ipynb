{
 "cells": [
  {
   "cell_type": "code",
   "execution_count": 1,
   "id": "57abd9cf",
   "metadata": {},
   "outputs": [],
   "source": [
    "from ipynb.fs.full.preprocessing import Preprocessing, data_to_dataset"
   ]
  },
  {
   "cell_type": "code",
   "execution_count": 2,
   "id": "c5621afe",
   "metadata": {},
   "outputs": [
    {
     "name": "stdout",
     "output_type": "stream",
     "text": [
      "Warning: Looks like you're using an outdated `kagglehub` version, please consider updating (latest version: 0.3.5)\n",
      "Path to dataset files: C:\\Users\\joshe\\.cache\\kagglehub\\datasets\\rajeevw\\ufcdata\\versions\\2\n"
     ]
    },
    {
     "data": {
      "text/plain": [
       "(6012, 144)"
      ]
     },
     "execution_count": 2,
     "metadata": {},
     "output_type": "execute_result"
    }
   ],
   "source": [
    "import kagglehub\n",
    "import pandas as pd\n",
    "\n",
    "# Download latest version\n",
    "path = kagglehub.dataset_download(\"rajeevw/ufcdata\")\n",
    "\n",
    "print(\"Path to dataset files:\", path)\n",
    "\n",
    "\n",
    "names = [\"\\data.csv\", \"\\preprocessed_data.csv\", \"\\\\raw_fighter_details.csv\", \"\\\\raw_total_fight_data.csv\"]\n",
    "\n",
    "data = pd.read_csv(path + names[0])\n",
    "data.shape"
   ]
  },
  {
   "cell_type": "code",
   "execution_count": 3,
   "id": "a3209f9a",
   "metadata": {},
   "outputs": [
    {
     "data": {
      "text/plain": [
       "Index(['R_fighter', 'B_fighter', 'Referee', 'date', 'location', 'Winner',\n",
       "       'title_bout', 'weight_class', 'B_avg_KD', 'B_avg_opp_KD',\n",
       "       ...\n",
       "       'R_win_by_Decision_Unanimous', 'R_win_by_KO/TKO', 'R_win_by_Submission',\n",
       "       'R_win_by_TKO_Doctor_Stoppage', 'R_Stance', 'R_Height_cms',\n",
       "       'R_Reach_cms', 'R_Weight_lbs', 'B_age', 'R_age'],\n",
       "      dtype='object', length=144)"
      ]
     },
     "execution_count": 3,
     "metadata": {},
     "output_type": "execute_result"
    }
   ],
   "source": [
    "data.columns"
   ]
  },
  {
   "cell_type": "code",
   "execution_count": 4,
   "id": "88b40b35",
   "metadata": {},
   "outputs": [],
   "source": [
    "y, x = Preprocessing(data, 'Winner', ['B_Stance', 'R_Stance', 'weight_class'])"
   ]
  },
  {
   "cell_type": "code",
   "execution_count": 5,
   "id": "bcb8d7bc",
   "metadata": {},
   "outputs": [],
   "source": [
    "dataset = data_to_dataset(x, y)"
   ]
  },
  {
   "cell_type": "code",
   "execution_count": 10,
   "id": "75c0b5d5",
   "metadata": {},
   "outputs": [],
   "source": [
    "from collections import Counter\n"
   ]
  },
  {
   "cell_type": "code",
   "execution_count": 19,
   "id": "c8cd99b8",
   "metadata": {},
   "outputs": [],
   "source": [
    "train_classes = [label.item() for _, label in dataset]\n",
    "Counts = Counter(train_classes)\n"
   ]
  },
  {
   "cell_type": "code",
   "execution_count": 7,
   "id": "22badc95",
   "metadata": {},
   "outputs": [
    {
     "name": "stdout",
     "output_type": "stream",
     "text": [
      "Installed kernelspec python3 in C:\\Users\\joshe\\AppData\\Roaming\\jupyter\\kernels\\python3\n"
     ]
    }
   ],
   "source": [
    "!python -m ipykernel install --user"
   ]
  },
  {
   "cell_type": "code",
   "execution_count": 3,
   "id": "47578c5c",
   "metadata": {},
   "outputs": [
    {
     "name": "stderr",
     "output_type": "stream",
     "text": [
      "'cat' is not recognized as an internal or external command,\n",
      "operable program or batch file.\n"
     ]
    }
   ],
   "source": [
    "!cat C:/Users/joshe/AppData/Roaming/jupyter/kernels/python3/kernel.json "
   ]
  },
  {
   "cell_type": "code",
   "execution_count": 1,
   "id": "1560e17c",
   "metadata": {},
   "outputs": [
    {
     "name": "stdout",
     "output_type": "stream",
     "text": [
      "C:\\Users\\joshe\\anaconda3\\python.exe\n",
      "3.9.12\n"
     ]
    }
   ],
   "source": [
    "import sys\n",
    "print(sys.executable)\n",
    "import platform\n",
    "print(platform.python_version())"
   ]
  },
  {
   "cell_type": "code",
   "execution_count": 21,
   "id": "ed14e943",
   "metadata": {
    "scrolled": true
   },
   "outputs": [
    {
     "data": {
      "text/plain": [
       "['__add__',\n",
       " '__and__',\n",
       " '__class__',\n",
       " '__class_getitem__',\n",
       " '__contains__',\n",
       " '__delattr__',\n",
       " '__delitem__',\n",
       " '__dict__',\n",
       " '__dir__',\n",
       " '__doc__',\n",
       " '__eq__',\n",
       " '__format__',\n",
       " '__ge__',\n",
       " '__getattribute__',\n",
       " '__getitem__',\n",
       " '__gt__',\n",
       " '__hash__',\n",
       " '__iadd__',\n",
       " '__iand__',\n",
       " '__init__',\n",
       " '__init_subclass__',\n",
       " '__ior__',\n",
       " '__isub__',\n",
       " '__iter__',\n",
       " '__le__',\n",
       " '__len__',\n",
       " '__lt__',\n",
       " '__missing__',\n",
       " '__module__',\n",
       " '__ne__',\n",
       " '__neg__',\n",
       " '__new__',\n",
       " '__or__',\n",
       " '__pos__',\n",
       " '__reduce__',\n",
       " '__reduce_ex__',\n",
       " '__repr__',\n",
       " '__reversed__',\n",
       " '__ror__',\n",
       " '__setattr__',\n",
       " '__setitem__',\n",
       " '__sizeof__',\n",
       " '__str__',\n",
       " '__sub__',\n",
       " '__subclasshook__',\n",
       " '__weakref__',\n",
       " '_keep_positive',\n",
       " 'clear',\n",
       " 'copy',\n",
       " 'elements',\n",
       " 'fromkeys',\n",
       " 'get',\n",
       " 'items',\n",
       " 'keys',\n",
       " 'most_common',\n",
       " 'pop',\n",
       " 'popitem',\n",
       " 'setdefault',\n",
       " 'subtract',\n",
       " 'update',\n",
       " 'values']"
      ]
     },
     "execution_count": 21,
     "metadata": {},
     "output_type": "execute_result"
    }
   ],
   "source": [
    "dir(Counts)"
   ]
  },
  {
   "cell_type": "code",
   "execution_count": 18,
   "id": "06d0088c",
   "metadata": {},
   "outputs": [
    {
     "data": {
      "text/plain": [
       "Counter()"
      ]
     },
     "execution_count": 18,
     "metadata": {},
     "output_type": "execute_result"
    }
   ],
   "source": []
  },
  {
   "cell_type": "code",
   "execution_count": 6,
   "id": "ba7596d7",
   "metadata": {},
   "outputs": [
    {
     "data": {
      "text/plain": [
       "<ipynb.fs.full.preprocessing.CustomDataset at 0x1626533e970>"
      ]
     },
     "execution_count": 6,
     "metadata": {},
     "output_type": "execute_result"
    }
   ],
   "source": [
    "Counts = Counter(train_classes)\n",
    "\n",
    "total = Counts[0] + Counts[1]\n",
    "\n",
    "weight_0 = 100/Counts[0]\n",
    "weight_1 = 100/Counts[1]\n",
    "\n",
    "weightings = torch.Tensor([weight_1, weight_0])"
   ]
  }
 ],
 "metadata": {
  "kernelspec": {
   "display_name": "Python 3 (ipykernel)",
   "language": "python",
   "name": "python3"
  },
  "language_info": {
   "codemirror_mode": {
    "name": "ipython",
    "version": 3
   },
   "file_extension": ".py",
   "mimetype": "text/x-python",
   "name": "python",
   "nbconvert_exporter": "python",
   "pygments_lexer": "ipython3",
   "version": "3.9.12"
  }
 },
 "nbformat": 4,
 "nbformat_minor": 5
}
