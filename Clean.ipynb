{
 "cells": [
  {
   "cell_type": "code",
   "execution_count": 14,
   "id": "6bed2b6e-4d43-4736-8c6f-71c9b75c63bd",
   "metadata": {},
   "outputs": [],
   "source": [
    "import pandas as pd\n",
    "\n",
    "data = pd.read_csv(\"C:\\\\Users\\\\joshe\\\\.cache\\\\kagglehub\\\\datasets\\\\rajeevw\\\\ufcdata\\\\versions\\\\2\\\\data.csv\")\n",
    "from ipynb.fs.full.preprocessing import CustomDataset"
   ]
  },
  {
   "cell_type": "code",
   "execution_count": null,
   "id": "d049263d-191a-4995-a20b-98198f998b60",
   "metadata": {},
   "outputs": [],
   "source": []
  },
  {
   "cell_type": "code",
   "execution_count": 43,
   "id": "382c6335-dab1-44e3-a320-0faf399f93c1",
   "metadata": {},
   "outputs": [],
   "source": [
    "from torch.utils.data import Dataset\n",
    "import torch\n",
    "\n",
    "class CustomDataset(Dataset):\n",
    "    def __init__(self, x, y):\n",
    "        self.x = x\n",
    "        self.y = y\n",
    "\n",
    "    def __getitem__(self, index):\n",
    "        # Return a dictionary with 'features' and 'label' as keys\n",
    "        print(self.x)\n",
    "        features = torch.tensor(self.x.iloc[index], dtype=torch.float32)\n",
    "        label = torch.tensor(self.y[index], dtype=torch.long)\n",
    "        return features, label\n",
    "    \n",
    "    def __len__(self):\n",
    "        # Return the total number of samples\n",
    "        return len(self.x)"
   ]
  },
  {
   "cell_type": "code",
   "execution_count": 44,
   "id": "175fa891-5e4a-4927-91a2-e49a0d58f45b",
   "metadata": {},
   "outputs": [],
   "source": [
    "Dataset = CustomDataset(data.drop('Winner', axis = 1), data['Winner'])"
   ]
  },
  {
   "cell_type": "code",
   "execution_count": 45,
   "id": "b9f4e5c9-d455-4b14-808a-80a102181300",
   "metadata": {},
   "outputs": [],
   "source": [
    "from torch.utils.data import random_split\n",
    "\n",
    "training_split = 0.9\n",
    "length = len(Dataset)\n",
    "train_size  = round(training_split*length)\n",
    "test_size = length - train_size\n",
    "train_dataset, test_dataset = random_split(Dataset, [train_size, test_size])"
   ]
  },
  {
   "cell_type": "code",
   "execution_count": null,
   "id": "97d693f8-3fd6-483f-848b-4a336cfc6614",
   "metadata": {},
   "outputs": [],
   "source": [
    "# Create DataLoader\n",
    "train_loader = DataLoader(train_dataset, batch_size=64, shuffle=True)\n",
    "test_loader = DataLoader(test_dataset, batch_size=64, shuffle=False)"
   ]
  },
  {
   "cell_type": "code",
   "execution_count": null,
   "id": "48a868c0-04a6-4082-8f4a-e4cc9f84b85a",
   "metadata": {},
   "outputs": [],
   "source": []
  }
 ],
 "metadata": {
  "kernelspec": {
   "display_name": "Python 3 (ipykernel)",
   "language": "python",
   "name": "python3"
  },
  "language_info": {
   "codemirror_mode": {
    "name": "ipython",
    "version": 3
   },
   "file_extension": ".py",
   "mimetype": "text/x-python",
   "name": "python",
   "nbconvert_exporter": "python",
   "pygments_lexer": "ipython3",
   "version": "3.9.21"
  }
 },
 "nbformat": 4,
 "nbformat_minor": 5
}
