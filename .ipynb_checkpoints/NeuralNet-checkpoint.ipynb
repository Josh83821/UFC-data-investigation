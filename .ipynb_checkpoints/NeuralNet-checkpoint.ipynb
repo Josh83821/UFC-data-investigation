{
 "cells": [
  {
   "cell_type": "markdown",
   "id": "08120d47",
   "metadata": {},
   "source": [
    "# TO DO\n",
    "\n",
    "- Add back in the draws. \n",
    "- Figure out how to use non-numerical values classes maybe? \n",
    "- Modularize the code - put it into functions and that."
   ]
  },
  {
   "cell_type": "markdown",
   "id": "6a23352c",
   "metadata": {},
   "source": [
    "# Import data and access"
   ]
  },
  {
   "cell_type": "code",
   "execution_count": 1,
   "id": "8a1aff92",
   "metadata": {},
   "outputs": [
    {
     "data": {
      "text/plain": [
       "<torch._C.Generator at 0x2b2d53ae630>"
      ]
     },
     "execution_count": 1,
     "metadata": {},
     "output_type": "execute_result"
    }
   ],
   "source": [
    "from sklearn.preprocessing import StandardScaler\n",
    "import kagglehub\n",
    "import pandas as pd\n",
    "import torch\n",
    "from torch.utils.data import Dataset, random_split, DataLoader\n",
    "import torch.nn as nn\n",
    "from collections import Counter\n",
    "import numpy as np\n",
    "import seaborn as sns\n",
    "import matplotlib.pyplot as plt\n",
    "\n",
    "torch.manual_seed(0)"
   ]
  },
  {
   "cell_type": "code",
   "execution_count": 2,
   "id": "49cc1b33",
   "metadata": {},
   "outputs": [
    {
     "name": "stdout",
     "output_type": "stream",
     "text": [
      "Path to dataset files: C:\\Users\\joshe\\.cache\\kagglehub\\datasets\\rajeevw\\ufcdata\\versions\\2\n"
     ]
    }
   ],
   "source": [
    "\n",
    "# Download latest version\n",
    "path = kagglehub.dataset_download(\"rajeevw/ufcdata\")\n",
    "\n",
    "print(\"Path to dataset files:\", path)\n",
    "\n",
    "\n",
    "names = [\"\\data.csv\", \"\\preprocessed_data.csv\", \"\\\\raw_fighter_details.csv\", \"\\\\raw_total_fight_data.csv\"]\n",
    "\n",
    "data = []\n",
    "data.append(pd.read_csv(path + names[0] ))\n",
    "data.append(pd.read_csv(path + names[1] ))\n",
    "data.append(pd.read_csv(path + names[2] ))\n",
    "data.append(pd.read_csv(path + names[3] ))\n"
   ]
  },
  {
   "cell_type": "markdown",
   "id": "46c8cbe9",
   "metadata": {},
   "source": [
    "# Extract results for labels"
   ]
  },
  {
   "cell_type": "code",
   "execution_count": 3,
   "id": "e0535b39",
   "metadata": {
    "scrolled": true
   },
   "outputs": [],
   "source": [
    "def get_results(data):\n",
    "    results = data.Winner\n",
    "\n",
    "    results.replace(\"Red\", 0, inplace = True)\n",
    "    results.replace(\"Blue\", 1, inplace = True)\n",
    "    \n",
    "    return results\n"
   ]
  },
  {
   "cell_type": "markdown",
   "id": "8b906880",
   "metadata": {},
   "source": [
    "# Get attributes and standardize"
   ]
  },
  {
   "cell_type": "code",
   "execution_count": 4,
   "id": "2f34aaa1",
   "metadata": {},
   "outputs": [],
   "source": [
    "def get_attributes(data):\n",
    "    attributes = data[data.columns.drop(\"Winner\")]\n",
    "\n",
    "    attributes.drop(columns = attributes.select_dtypes(exclude='number'), axis = 1, inplace=True)\n",
    "\n",
    "    scaler = StandardScaler()\n",
    "    attributes = pd.DataFrame(scaler.fit_transform(attributes), columns=attributes.columns)\n",
    "    \n",
    "    return attributes"
   ]
  },
  {
   "cell_type": "markdown",
   "id": "3b0e19b1",
   "metadata": {},
   "source": [
    "# Organise the main data fram we are using"
   ]
  },
  {
   "cell_type": "code",
   "execution_count": 5,
   "id": "2faf2400",
   "metadata": {},
   "outputs": [],
   "source": [
    "def Data_to_Useful(data):\n",
    "    #Drop all draws\n",
    "    #Can keep them and then have three categories to put them into\n",
    "    data.drop(data[data[\"Winner\"] == 'Draw'].index, inplace = True)\n",
    "\n",
    "    #Look at other ways to deel with NA \n",
    "    #Replace them with the average perhaps?\n",
    "    data.dropna(axis = 1, inplace = True)\n",
    "\n",
    "\n",
    "    data.reset_index(drop=True, inplace = True)\n",
    "    if 'index' in data.columns:\n",
    "        data.drop(columns='index', inplace=True)\n",
    "        \n",
    "    results = get_results(data)\n",
    "    attributes = get_attributes(data)\n",
    "    \n",
    "    return results, attributes\n"
   ]
  },
  {
   "cell_type": "markdown",
   "id": "24b17923",
   "metadata": {},
   "source": [
    "### Create dataset"
   ]
  },
  {
   "cell_type": "code",
   "execution_count": 6,
   "id": "62e3deaa",
   "metadata": {},
   "outputs": [],
   "source": [
    "\n",
    "class CustomDataset(Dataset):\n",
    "    def __init__(self, x, y):\n",
    "        self.x = x\n",
    "        self.y = y\n",
    "\n",
    "    def __getitem__(self, index):\n",
    "        # Return a dictionary with 'features' and 'label' as keys\n",
    "        features = torch.tensor(self.x.iloc[index], dtype=torch.float32)\n",
    "        label = torch.tensor(self.y[index], dtype=torch.long)\n",
    "        return features, label\n",
    "    \n",
    "    def __len__(self):\n",
    "        # Return the total number of samples\n",
    "        return len(self.x)\n",
    "\n",
    "\n"
   ]
  },
  {
   "cell_type": "markdown",
   "id": "ef55567d",
   "metadata": {},
   "source": [
    "# Class weighting"
   ]
  },
  {
   "cell_type": "code",
   "execution_count": 7,
   "id": "65aa5f59",
   "metadata": {},
   "outputs": [],
   "source": [
    "def class_weightings(train_dataset):\n",
    "    train_classes = [label.item() for _, label in train_dataset]\n",
    "    Counts = Counter(train_classes)\n",
    "\n",
    "    total = Counts[0] + Counts[1]\n",
    "\n",
    "    weight_0 = 100/Counts[0]\n",
    "    weight_1 = 100/Counts[1]\n",
    "\n",
    "    weightings = torch.Tensor([weight_1, weight_0])\n",
    "    \n",
    "    return weightings\n",
    "\n",
    "def data_loaders(dataset):\n",
    "    training_split = 0.9\n",
    "    length = len(dataset)\n",
    "    train_size = int(training_split * length)\n",
    "    test_size = length - train_size\n",
    "    train_dataset, test_dataset = random_split(dataset, [train_size, test_size])\n",
    "    \n",
    "\n",
    "    batch_size = 16  # fixed typo\n",
    "    train_loader = DataLoader(train_dataset, batch_size=batch_size, shuffle=True)\n",
    "    test_loader = DataLoader(test_dataset, batch_size=batch_size, shuffle=False)\n",
    "    \n",
    "    weightings = class_weightings(train_dataset)\n",
    "    return weightings, train_loader, test_loader, train_dataset, test_dataset"
   ]
  },
  {
   "cell_type": "markdown",
   "id": "a3bb5380",
   "metadata": {},
   "source": [
    "# Model (Logistic Regression here)"
   ]
  },
  {
   "cell_type": "code",
   "execution_count": 8,
   "id": "c87fde00",
   "metadata": {},
   "outputs": [],
   "source": [
    "\n",
    "class Net(nn.Module):\n",
    "    \n",
    "    def __init__(self, n_inputs, n_outputs, width, depth):\n",
    "        super().__init__()\n",
    "        \n",
    "        # Initialize the layers list as empty\n",
    "        layers = []\n",
    "        \n",
    "        #layers += [nn.Flatten()]\n",
    "\n",
    "        # Add input layer\n",
    "        layers += [nn.Linear(n_inputs, width), nn.ReLU()]\n",
    "\n",
    "        # Add hidden layers to layers list\n",
    "        for layer_index in range(1, depth):\n",
    "            layers += [nn.Linear(width, width), nn.ReLU(), nn.Dropout(0.5)]\n",
    "                \n",
    "        #Add output layer\n",
    "        layers += [nn.Linear(width, n_outputs)]\n",
    "        \n",
    "        # Create the network as a sequence of layers\n",
    "        self.layers = nn.Sequential(*layers)\n",
    "        \n",
    "    def forward(self, input):\n",
    "        #Pass the input through the layers\n",
    "        out = self.layers(input)\n",
    "        \n",
    "        return out\n"
   ]
  },
  {
   "cell_type": "code",
   "execution_count": 9,
   "id": "cc15ee1a",
   "metadata": {},
   "outputs": [],
   "source": [
    "def init_weights(m):\n",
    "    if isinstance(m, nn.Linear):\n",
    "        nn.init.kaiming_uniform_(m.weight, nonlinearity='relu')\n",
    "        if m.bias is not None:\n",
    "            nn.init.zeros_(m.bias)"
   ]
  },
  {
   "cell_type": "markdown",
   "id": "445203ac",
   "metadata": {
    "scrolled": true
   },
   "source": [
    "# Train model on data"
   ]
  },
  {
   "cell_type": "code",
   "execution_count": 10,
   "id": "6fcd4bb8",
   "metadata": {},
   "outputs": [],
   "source": [
    "def TRAIN(model, train_loader, test_loader, weightings, test_dataset, epochs):\n",
    "    \n",
    "    # defining the optimizer\n",
    "    optimizer = torch.optim.Adam(model.parameters(), lr=0.001)\n",
    "    # defining Cross-Entropy loss\n",
    "    criterion = torch.nn.CrossEntropyLoss(weight = weightings)\n",
    "\n",
    "    epochs = 10\n",
    "    Loss = []\n",
    "    acc = []\n",
    "    for epoch in range(epochs):\n",
    "        for i, (attribute, labels) in enumerate(train_loader):\n",
    "            optimizer.zero_grad()\n",
    "            outputs = model(attribute)\n",
    "            loss = criterion(outputs, labels)\n",
    "            # Loss.append(loss.item())\n",
    "            loss.backward()\n",
    "            optimizer.step()\n",
    "        Loss.append(loss.item())\n",
    "        correct = 0\n",
    "        for attribute, labels in test_loader:\n",
    "            outputs = model(attribute)\n",
    "            _, predicted = torch.max(outputs.data, 1)\n",
    "            correct += (predicted == labels).sum()\n",
    "        accuracy = 100 * (correct.item()) / len(test_dataset)\n",
    "        acc.append(accuracy)\n",
    "        #print('Epoch: {}. Loss: {}. Accuracy: {}'.format(epoch, loss.item(), accuracy))\n",
    "\n",
    "    return acc[-1]"
   ]
  },
  {
   "cell_type": "markdown",
   "id": "5981b4ba",
   "metadata": {},
   "source": [
    "# Actually implement everything"
   ]
  },
  {
   "cell_type": "code",
   "execution_count": 11,
   "id": "90e5ce4d",
   "metadata": {},
   "outputs": [
    {
     "name": "stderr",
     "output_type": "stream",
     "text": [
      "C:\\Users\\joshe\\AppData\\Local\\Temp\\ipykernel_16268\\1105535225.py:4: SettingWithCopyWarning: \n",
      "A value is trying to be set on a copy of a slice from a DataFrame\n",
      "\n",
      "See the caveats in the documentation: https://pandas.pydata.org/pandas-docs/stable/user_guide/indexing.html#returning-a-view-versus-a-copy\n",
      "  attributes.drop(columns = attributes.select_dtypes(exclude='number'), axis = 1, inplace=True)\n"
     ]
    }
   ],
   "source": [
    "results, attributes = Data_to_Useful(data[0])\n",
    "\n",
    "dataset = CustomDataset(attributes, results)\n",
    "\n",
    "weightings, train_loader, test_loader, train_dataset, test_dataset = data_loaders(dataset)\n",
    "\n",
    "# instantiate the model\n",
    "n_inputs = train_dataset[0][0].size()[0] \n",
    "n_outputs = 2\n"
   ]
  },
  {
   "cell_type": "code",
   "execution_count": 12,
   "id": "f73428e2",
   "metadata": {},
   "outputs": [
    {
     "data": {
      "text/plain": [
       "65.98984771573605"
      ]
     },
     "execution_count": 12,
     "metadata": {},
     "output_type": "execute_result"
    }
   ],
   "source": [
    "net = Net(n_inputs, n_outputs, 2, 10)\n",
    "net.apply(init_weights)\n",
    "TRAIN(net, train_loader, test_loader, weightings, test_dataset, epochs = 20)"
   ]
  },
  {
   "cell_type": "code",
   "execution_count": 13,
   "id": "3ed31f30",
   "metadata": {},
   "outputs": [
    {
     "data": {
      "text/plain": [
       "65.82064297800338"
      ]
     },
     "execution_count": 13,
     "metadata": {},
     "output_type": "execute_result"
    }
   ],
   "source": [
    "net = Net(n_inputs, n_outputs, 10, 2)\n",
    "net.apply(init_weights)\n",
    "TRAIN(net, train_loader, test_loader, weightings, test_dataset, epochs = 20)"
   ]
  },
  {
   "cell_type": "code",
   "execution_count": 14,
   "id": "dc1b5c8e",
   "metadata": {},
   "outputs": [
    {
     "data": {
      "text/plain": [
       "'scores = []\\n\\nfor i in range(1, 5):\\n    print(f\"\\n {i} \\n\")\\n    net = Net(n_inputs, n_outputs, 2, i)\\n    scores.append(TRAIN(net, train_loader, test_loader, weightings, test_dataset))'"
      ]
     },
     "execution_count": 14,
     "metadata": {},
     "output_type": "execute_result"
    }
   ],
   "source": [
    "'''scores = []\n",
    "\n",
    "for i in range(1, 5):\n",
    "    print(f\"\\n {i} \\n\")\n",
    "    net = Net(n_inputs, n_outputs, 2, i)\n",
    "    scores.append(TRAIN(net, train_loader, test_loader, weightings, test_dataset))'''"
   ]
  },
  {
   "cell_type": "code",
   "execution_count": 15,
   "id": "1afd0292",
   "metadata": {},
   "outputs": [],
   "source": [
    "def count_parameters(model):\n",
    "    return sum(p.numel() for p in model.parameters() if p.requires_grad)"
   ]
  },
  {
   "cell_type": "code",
   "execution_count": 18,
   "id": "771b27e7",
   "metadata": {},
   "outputs": [
    {
     "name": "stdout",
     "output_type": "stream",
     "text": [
      " -------------------------WIDTH = 2 -------------------------\n",
      " ------------DEPTH = 1 -----------\n",
      "65.65143824027072\n",
      " ------------DEPTH = 2 -----------\n",
      "65.98984771573605\n",
      " ------------DEPTH = 4 -----------\n",
      "65.98984771573605\n",
      " ------------DEPTH = 8 -----------\n",
      "65.98984771573605\n",
      " -------------------------WIDTH = 4 -------------------------\n",
      " ------------DEPTH = 1 -----------\n",
      "65.82064297800338\n",
      " ------------DEPTH = 2 -----------\n",
      "65.98984771573605\n",
      " ------------DEPTH = 4 -----------\n",
      "65.98984771573605\n",
      " ------------DEPTH = 8 -----------\n",
      "65.98984771573605\n",
      " -------------------------WIDTH = 8 -------------------------\n",
      " ------------DEPTH = 1 -----------\n",
      "66.1590524534687\n",
      " ------------DEPTH = 2 -----------\n",
      "65.98984771573605\n",
      " ------------DEPTH = 4 -----------\n",
      "65.98984771573605\n",
      " ------------DEPTH = 8 -----------\n",
      "65.98984771573605\n",
      " -------------------------WIDTH = 16 -------------------------\n",
      " ------------DEPTH = 1 -----------\n",
      "66.1590524534687\n",
      " ------------DEPTH = 2 -----------\n",
      "65.98984771573605\n",
      " ------------DEPTH = 4 -----------\n",
      "65.98984771573605\n",
      " ------------DEPTH = 8 -----------\n",
      "65.98984771573605\n"
     ]
    },
    {
     "data": {
      "image/png": "[encoded data removed]",
      "text/plain": [
       "<Figure size 720x432 with 2 Axes>"
      ]
     },
     "metadata": {
      "needs_background": "light"
     },
     "output_type": "display_data"
    }
   ],
   "source": [
    "\n",
    "# Define ranges for width and depth\n",
    "width_range = [2, 4, 8, 16]  # Example widths\n",
    "depth_range = [1, 2, 4, 8]   # Example depths\n",
    "\n",
    "# Initialize a 2D array to store accuracies\n",
    "accuracy_matrix = np.zeros((len(width_range), len(depth_range)))\n",
    "\n",
    "# Iterate over width and depth\n",
    "for i, width in enumerate(width_range):\n",
    "    print(f' -------------------------WIDTH = {width} -------------------------')\n",
    "    for j, depth in enumerate(depth_range):\n",
    "        print(f' ------------DEPTH = {depth} -----------')\n",
    "        net = Net(n_inputs, n_outputs, width, depth)\n",
    "        \n",
    "        # Train the model\n",
    "        acc = TRAIN(net, train_loader, test_loader, weightings, test_dataset, epochs = 20)\n",
    "        print(acc)\n",
    "        # Store the final accuracy\n",
    "        accuracy_matrix[i, j] = acc\n",
    "\n",
    "# Create a heatmap using seaborn\n",
    "plt.figure(figsize=(10, 6))\n",
    "sns.heatmap(\n",
    "    accuracy_matrix,\n",
    "    annot=True,\n",
    "    fmt=\".2f\",\n",
    "    xticklabels=depth_range,\n",
    "    yticklabels=width_range,\n",
    "    cmap=\"YlGnBu\"\n",
    ")\n",
    "plt.title(\"Final Accuracy Heatmap\")\n",
    "plt.xlabel(\"Depth\")\n",
    "plt.ylabel(\"Width\")\n",
    "plt.show()\n"
   ]
  },
  {
   "cell_type": "code",
   "execution_count": null,
   "id": "a005e204",
   "metadata": {},
   "outputs": [],
   "source": []
  }
 ],
 "metadata": {
  "kernelspec": {
   "display_name": "Python 3 (ipykernel)",
   "language": "python",
   "name": "python3"
  },
  "language_info": {
   "codemirror_mode": {
    "name": "ipython",
    "version": 3
   },
   "file_extension": ".py",
   "mimetype": "text/x-python",
   "name": "python",
   "nbconvert_exporter": "python",
   "pygments_lexer": "ipython3",
   "version": "3.9.12"
  }
 },
 "nbformat": 4,
 "nbformat_minor": 5
}
