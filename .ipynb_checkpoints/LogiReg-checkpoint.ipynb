{
 "cells": [
  {
   "cell_type": "markdown",
   "id": "08120d47",
   "metadata": {},
   "source": [
    "# TO DO\n",
    "\n",
    "Add back in the draws. Reweight the different labels. Figure out how to use non-numerical values classes maybe?"
   ]
  },
  {
   "cell_type": "markdown",
   "id": "6a23352c",
   "metadata": {},
   "source": [
    "# Import data and access"
   ]
  },
  {
   "cell_type": "code",
   "execution_count": 1,
   "id": "e5356488",
   "metadata": {},
   "outputs": [],
   "source": [
    "import pandas as pd\n",
    "import torch\n",
    "import torch.nn as nn\n",
    "from collections import Counter"
   ]
  },
  {
   "cell_type": "code",
   "execution_count": 2,
   "id": "49cc1b33",
   "metadata": {},
   "outputs": [],
   "source": [
    "import kagglehub\n",
    "from ipynb.fs.full.preprocessing import Preprocessing, CustomDataset\n",
    "from torch.utils.data import random_split\n"
   ]
  },
  {
   "cell_type": "code",
   "execution_count": 3,
   "id": "dd6d295d",
   "metadata": {},
   "outputs": [
    {
     "name": "stdout",
     "output_type": "stream",
     "text": [
      "Path to dataset files: C:\\Users\\joshe\\.cache\\kagglehub\\datasets\\rajeevw\\ufcdata\\versions\\2\n"
     ]
    },
    {
     "data": {
      "text/plain": [
       "'data.append(pd.read_csv(path + names[0] ))\\ndata.append(pd.read_csv(path + names[1] ))\\ndata.append(pd.read_csv(path + names[2] ))\\ndata.append(pd.read_csv(path + names[3] ))'"
      ]
     },
     "execution_count": 3,
     "metadata": {},
     "output_type": "execute_result"
    }
   ],
   "source": [
    "# Download latest version\n",
    "path = kagglehub.dataset_download(\"rajeevw/ufcdata\")\n",
    "\n",
    "print(\"Path to dataset files:\", path)\n",
    "\n",
    "names = [\"\\data.csv\", \"\\preprocessed_data.csv\", \"\\\\raw_fighter_details.csv\", \"\\\\raw_total_fight_data.csv\"]\n",
    "\n",
    "data = pd.read_csv(path + names[0])\n",
    "'''data.append(pd.read_csv(path + names[0] ))\n",
    "data.append(pd.read_csv(path + names[1] ))\n",
    "data.append(pd.read_csv(path + names[2] ))\n",
    "data.append(pd.read_csv(path + names[3] ))'''\n"
   ]
  },
  {
   "cell_type": "markdown",
   "id": "24b17923",
   "metadata": {},
   "source": [
    "### Create dataset"
   ]
  },
  {
   "cell_type": "code",
   "execution_count": 4,
   "id": "62e3deaa",
   "metadata": {},
   "outputs": [],
   "source": [
    "y, x = Preprocessing(data)\n",
    "\n",
    "dataset = CustomDataset(x, y)"
   ]
  },
  {
   "cell_type": "markdown",
   "id": "d4e542d4",
   "metadata": {},
   "source": [
    "# Train and test split"
   ]
  },
  {
   "cell_type": "code",
   "execution_count": 5,
   "id": "65aa5f59",
   "metadata": {},
   "outputs": [],
   "source": [
    "training_split = 0.8\n",
    "length = len(dataset)\n",
    "train_size  = round(training_split*length)\n",
    "test_size = length - train_size\n",
    "train_dataset, test_dataset = random_split(dataset, [train_size, test_size])"
   ]
  },
  {
   "cell_type": "markdown",
   "id": "b947e905",
   "metadata": {},
   "source": [
    "# Data loaders"
   ]
  },
  {
   "cell_type": "code",
   "execution_count": 6,
   "id": "9d237b0c",
   "metadata": {},
   "outputs": [],
   "source": [
    "from torch.utils.data import DataLoader\n",
    "\n",
    "# load train and test data samples into dataloader\n",
    "batach_size = 32\n",
    "train_loader = DataLoader(dataset=train_dataset, batch_size=batach_size, shuffle=True) \n",
    "test_loader = DataLoader(dataset=test_dataset, batch_size=batach_size, shuffle=False)"
   ]
  },
  {
   "cell_type": "markdown",
   "id": "ef55567d",
   "metadata": {},
   "source": [
    "# Class weighting"
   ]
  },
  {
   "cell_type": "code",
   "execution_count": 7,
   "id": "93cc4278",
   "metadata": {
    "scrolled": true
   },
   "outputs": [],
   "source": [
    "from collections import Counter\n",
    "\n",
    "train_classes = [label.item() for _, label in train_dataset]\n",
    "Counts = Counter(train_classes)\n",
    "\n",
    "total = Counts[0] + Counts[1]+ Counts[2]\n",
    "\n",
    "weight_0 = 100/Counts[0]\n",
    "weight_1 = 100/Counts[1]\n",
    "weight_2 = 100/Counts[2]\n",
    "\n",
    "weightings = torch.Tensor([weight_2, weight_1, weight_0])"
   ]
  },
  {
   "cell_type": "markdown",
   "id": "a3bb5380",
   "metadata": {},
   "source": [
    "# Model (Logistic Regression here)"
   ]
  },
  {
   "cell_type": "code",
   "execution_count": 8,
   "id": "fe368ad5",
   "metadata": {},
   "outputs": [],
   "source": [
    "class LogisticRegression(torch.nn.Module):    \n",
    "    def __init__(self, n_inputs, n_outputs):\n",
    "        super(LogisticRegression, self).__init__()\n",
    "        self.linear = torch.nn.Linear(n_inputs, n_outputs)\n",
    "    \n",
    "    def forward(self, x):\n",
    "        # Do not apply sigmoid or softmax here; CrossEntropyLoss will handle it internally.\n",
    "        y_pred = self.linear(x)\n",
    "        return y_pred\n",
    "\n"
   ]
  },
  {
   "cell_type": "code",
   "execution_count": 9,
   "id": "bd67ff66",
   "metadata": {},
   "outputs": [],
   "source": [
    "def init_weights(m):\n",
    "    if isinstance(m, nn.Linear):\n",
    "        nn.init.kaiming_uniform_(m.weight, nonlinearity='relu')\n",
    "        if m.bias is not None:\n",
    "            nn.init.zeros_(m.bias)"
   ]
  },
  {
   "cell_type": "code",
   "execution_count": 10,
   "id": "a6794e7a",
   "metadata": {},
   "outputs": [],
   "source": [
    "# instantiate the model\n",
    "n_inputs = train_dataset[0][0].size()[0] # makes a 1D vector of 784\n",
    "n_outputs = 3"
   ]
  },
  {
   "cell_type": "markdown",
   "id": "445203ac",
   "metadata": {
    "scrolled": true
   },
   "source": [
    "# Train model on data"
   ]
  },
  {
   "cell_type": "code",
   "execution_count": 11,
   "id": "6fcd4bb8",
   "metadata": {},
   "outputs": [
    {
     "name": "stdout",
     "output_type": "stream",
     "text": [
      "Epoch: 0. Loss: 1.1198835372924805. Accuracy: 49.25124792013311\n",
      "Epoch: 1. Loss: 1.0403865575790405. Accuracy: 54.82529118136439\n",
      "Epoch: 2. Loss: 0.9341727495193481. Accuracy: 57.40432612312812\n",
      "Epoch: 3. Loss: 0.5896958708763123. Accuracy: 57.57071547420965\n",
      "Epoch: 4. Loss: 1.5563645362854004. Accuracy: 58.901830282861894\n",
      "Epoch: 5. Loss: 0.6699607968330383. Accuracy: 59.90016638935108\n",
      "Epoch: 6. Loss: 0.9745787978172302. Accuracy: 60.98169717138103\n",
      "Epoch: 7. Loss: 0.7365929484367371. Accuracy: 61.64725457570715\n",
      "Epoch: 8. Loss: 0.752180814743042. Accuracy: 61.89683860232945\n",
      "Epoch: 9. Loss: 0.6184337735176086. Accuracy: 61.813643926788686\n",
      "Epoch: 10. Loss: 1.262481689453125. Accuracy: 62.31281198003328\n",
      "Epoch: 11. Loss: 0.718433141708374. Accuracy: 62.7287853577371\n",
      "Epoch: 12. Loss: 0.6836661696434021. Accuracy: 62.978369384359404\n",
      "Epoch: 13. Loss: 0.8080455660820007. Accuracy: 62.562396006655575\n",
      "Epoch: 14. Loss: 0.4621181786060333. Accuracy: 63.2279534109817\n",
      "Epoch: 15. Loss: 0.6409526467323303. Accuracy: 62.562396006655575\n",
      "Epoch: 16. Loss: 0.7413968443870544. Accuracy: 62.562396006655575\n",
      "Epoch: 17. Loss: 0.6514707803726196. Accuracy: 62.978369384359404\n",
      "Epoch: 18. Loss: 1.0001773834228516. Accuracy: 63.061564059900164\n",
      "Epoch: 19. Loss: 1.5385499000549316. Accuracy: 62.562396006655575\n"
     ]
    },
    {
     "data": {
      "image/png": "[encoded data removed]",
      "text/plain": [
       "<Figure size 432x288 with 1 Axes>"
      ]
     },
     "metadata": {
      "needs_background": "light"
     },
     "output_type": "display_data"
    }
   ],
   "source": [
    "log_regr = LogisticRegression(n_inputs, n_outputs)\n",
    "# defining the optimizer\n",
    "#optimizer = torch.optim.Adam(log_regr.parameters(), lr=0.001)\n",
    "optimizer = torch.optim.SGD(log_regr.parameters(), lr=1e-3)\n",
    "\n",
    "# defining Cross-Entropy loss\n",
    "criterion = torch.nn.CrossEntropyLoss(weight = weightings)\n",
    " \n",
    "epochs = 20\n",
    "Loss = []\n",
    "acc = []\n",
    "for epoch in range(epochs):\n",
    "    for i, (attribute, labels) in enumerate(train_loader):\n",
    "        optimizer.zero_grad()\n",
    "        outputs = log_regr(attribute)\n",
    "        loss = criterion(outputs, labels)\n",
    "        # Loss.append(loss.item())\n",
    "        loss.backward()\n",
    "        optimizer.step()\n",
    "    Loss.append(loss.item())\n",
    "    correct = 0\n",
    "    for attribute, labels in test_loader:\n",
    "        outputs = log_regr(attribute)\n",
    "        _, predicted = torch.max(outputs.data, 1)\n",
    "        correct += (predicted == labels).sum()\n",
    "    accuracy = 100 * (correct.item()) / len(test_dataset)\n",
    "    acc.append(accuracy)\n",
    "    print('Epoch: {}. Loss: {}. Accuracy: {}'.format(epoch, loss.item(), accuracy))\n",
    "\n",
    "    \n",
    "import matplotlib.pyplot as plt\n",
    "\n",
    "plt.plot(acc)\n",
    "plt.xlabel(\"Iteration\")\n",
    "plt.ylabel('Accuracy')\n",
    "plt.show()"
   ]
  },
  {
   "cell_type": "code",
   "execution_count": 12,
   "id": "066eec12",
   "metadata": {},
   "outputs": [
    {
     "name": "stdout",
     "output_type": "stream",
     "text": [
      "Epoch: 0. Loss: 0.9514392018318176. Accuracy: 59.81697171381032\n",
      "Epoch: 1. Loss: 0.6818943619728088. Accuracy: 61.31447587354409\n",
      "Epoch: 2. Loss: 0.6949701905250549. Accuracy: 62.06322795341098\n",
      "Epoch: 3. Loss: 0.6438703536987305. Accuracy: 62.978369384359404\n",
      "Epoch: 4. Loss: 1.8007934093475342. Accuracy: 62.7287853577371\n",
      "Epoch: 5. Loss: 0.6540807485580444. Accuracy: 62.06322795341098\n",
      "Epoch: 6. Loss: 0.7403630018234253. Accuracy: 62.39600665557404\n",
      "Epoch: 7. Loss: 1.0642086267471313. Accuracy: 62.89517470881864\n",
      "Epoch: 8. Loss: 0.59134441614151. Accuracy: 61.813643926788686\n",
      "Epoch: 9. Loss: 0.5162571668624878. Accuracy: 62.64559068219634\n",
      "Epoch: 10. Loss: 0.6887546181678772. Accuracy: 63.061564059900164\n",
      "Epoch: 11. Loss: 1.2083375453948975. Accuracy: 61.39767054908486\n",
      "Epoch: 12. Loss: 0.6026338338851929. Accuracy: 61.56405990016639\n",
      "Epoch: 13. Loss: 0.7996751070022583. Accuracy: 61.64725457570715\n",
      "Epoch: 14. Loss: 0.5371928811073303. Accuracy: 61.56405990016639\n",
      "Epoch: 15. Loss: 0.8896008133888245. Accuracy: 61.23128119800333\n",
      "Epoch: 16. Loss: 1.106324553489685. Accuracy: 61.64725457570715\n",
      "Epoch: 17. Loss: 0.745546281337738. Accuracy: 61.064891846921796\n",
      "Epoch: 18. Loss: 1.0292778015136719. Accuracy: 61.56405990016639\n",
      "Epoch: 19. Loss: 0.7573544979095459. Accuracy: 60.98169717138103\n"
     ]
    },
    {
     "data": {
      "image/png": "[encoded data removed]",
      "text/plain": [
       "<Figure size 432x288 with 1 Axes>"
      ]
     },
     "metadata": {
      "needs_background": "light"
     },
     "output_type": "display_data"
    }
   ],
   "source": [
    "log_regr = LogisticRegression(n_inputs, n_outputs)\n",
    "# defining the optimizer\n",
    "optimizer = torch.optim.Adam(log_regr.parameters(), lr=1e-3)\n",
    "#optimizer = torch.optim.SGD(log_regr.parameters(), lr=1e-3)\n",
    "\n",
    "# defining Cross-Entropy loss\n",
    "criterion = torch.nn.CrossEntropyLoss(weight = weightings)\n",
    " \n",
    "epochs = 20\n",
    "Loss = []\n",
    "acc = []\n",
    "for epoch in range(epochs):\n",
    "    for i, (attribute, labels) in enumerate(train_loader):\n",
    "        optimizer.zero_grad()\n",
    "        outputs = log_regr(attribute)\n",
    "        loss = criterion(outputs, labels)\n",
    "        # Loss.append(loss.item())\n",
    "        loss.backward()\n",
    "        optimizer.step()\n",
    "    Loss.append(loss.item())\n",
    "    correct = 0\n",
    "    for attribute, labels in test_loader:\n",
    "        outputs = log_regr(attribute)\n",
    "        _, predicted = torch.max(outputs.data, 1)\n",
    "        correct += (predicted == labels).sum()\n",
    "    accuracy = 100 * (correct.item()) / len(test_dataset)\n",
    "    acc.append(accuracy)\n",
    "    print('Epoch: {}. Loss: {}. Accuracy: {}'.format(epoch, loss.item(), accuracy))\n",
    "\n",
    "    \n",
    "import matplotlib.pyplot as plt\n",
    "\n",
    "plt.plot(acc)\n",
    "plt.xlabel(\"Iteration\")\n",
    "plt.ylabel('Accuracy')\n",
    "plt.show()"
   ]
  },
  {
   "cell_type": "code",
   "execution_count": 13,
   "id": "1d274734",
   "metadata": {},
   "outputs": [
    {
     "name": "stdout",
     "output_type": "stream",
     "text": [
      "Epoch: 0. Loss: 1.1772609949111938. Accuracy: 50.0\n",
      "Epoch: 1. Loss: 0.9547499418258667. Accuracy: 55.24126455906822\n",
      "Epoch: 2. Loss: 0.8465648889541626. Accuracy: 57.15474209650582\n",
      "Epoch: 3. Loss: 0.7920070886611938. Accuracy: 60.06655574043261\n",
      "Epoch: 4. Loss: 0.82429438829422. Accuracy: 61.73044925124792\n",
      "Epoch: 5. Loss: 0.8967836499214172. Accuracy: 62.562396006655575\n",
      "Epoch: 6. Loss: 0.6786528825759888. Accuracy: 63.89351081530782\n",
      "Epoch: 7. Loss: 0.7390357851982117. Accuracy: 64.05990016638935\n",
      "Epoch: 8. Loss: 0.7484527826309204. Accuracy: 64.55906821963394\n",
      "Epoch: 9. Loss: 0.588562548160553. Accuracy: 64.72545757071548\n",
      "Epoch: 10. Loss: 0.9038878679275513. Accuracy: 65.22462562396007\n",
      "Epoch: 11. Loss: 0.6399363279342651. Accuracy: 65.3910149750416\n",
      "Epoch: 12. Loss: 0.7480131387710571. Accuracy: 65.55740432612313\n",
      "Epoch: 13. Loss: 0.8457253575325012. Accuracy: 65.3910149750416\n",
      "Epoch: 14. Loss: 0.5441948175430298. Accuracy: 65.47420965058237\n",
      "Epoch: 15. Loss: 0.7318055033683777. Accuracy: 65.55740432612313\n",
      "Epoch: 16. Loss: 0.8311506509780884. Accuracy: 65.72379367720465\n",
      "Epoch: 17. Loss: 0.6068317294120789. Accuracy: 65.3910149750416\n",
      "Epoch: 18. Loss: 0.7788751721382141. Accuracy: 65.64059900166389\n",
      "Epoch: 19. Loss: 0.5353325605392456. Accuracy: 65.3910149750416\n"
     ]
    },
    {
     "data": {
      "image/png": "[encoded data removed]",
      "text/plain": [
       "<Figure size 432x288 with 1 Axes>"
      ]
     },
     "metadata": {
      "needs_background": "light"
     },
     "output_type": "display_data"
    }
   ],
   "source": [
    "log_regr = LogisticRegression(n_inputs, n_outputs)\n",
    "# defining the optimizer\n",
    "#optimizer = torch.optim.Adam(log_regr.parameters(), lr=1e-3)\n",
    "optimizer = torch.optim.SGD(log_regr.parameters(), lr=1e-3)\n",
    "\n",
    "# defining Cross-Entropy loss\n",
    "criterion = torch.nn.CrossEntropyLoss()#weight = weightings)\n",
    " \n",
    "epochs = 20\n",
    "Loss = []\n",
    "acc = []\n",
    "for epoch in range(epochs):\n",
    "    for i, (attribute, labels) in enumerate(train_loader):\n",
    "        optimizer.zero_grad()\n",
    "        outputs = log_regr(attribute)\n",
    "        loss = criterion(outputs, labels)\n",
    "        # Loss.append(loss.item())\n",
    "        loss.backward()\n",
    "        optimizer.step()\n",
    "    Loss.append(loss.item())\n",
    "    correct = 0\n",
    "    for attribute, labels in test_loader:\n",
    "        outputs = log_regr(attribute)\n",
    "        _, predicted = torch.max(outputs.data, 1)\n",
    "        correct += (predicted == labels).sum()\n",
    "    accuracy = 100 * (correct.item()) / len(test_dataset)\n",
    "    acc.append(accuracy)\n",
    "    print('Epoch: {}. Loss: {}. Accuracy: {}'.format(epoch, loss.item(), accuracy))\n",
    "\n",
    "    \n",
    "import matplotlib.pyplot as plt\n",
    "\n",
    "plt.plot(acc)\n",
    "plt.xlabel(\"Iteration\")\n",
    "plt.ylabel('Accuracy')\n",
    "plt.show()"
   ]
  },
  {
   "cell_type": "code",
   "execution_count": null,
   "id": "ab47008d",
   "metadata": {},
   "outputs": [],
   "source": []
  }
 ],
 "metadata": {
  "kernelspec": {
   "display_name": "Python 3 (ipykernel)",
   "language": "python",
   "name": "python3"
  },
  "language_info": {
   "codemirror_mode": {
    "name": "ipython",
    "version": 3
   },
   "file_extension": ".py",
   "mimetype": "text/x-python",
   "name": "python",
   "nbconvert_exporter": "python",
   "pygments_lexer": "ipython3",
   "version": "3.9.12"
  }
 },
 "nbformat": 4,
 "nbformat_minor": 5
}
